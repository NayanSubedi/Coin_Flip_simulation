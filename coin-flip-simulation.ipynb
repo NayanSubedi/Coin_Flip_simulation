{
 "cells": [
  {
   "cell_type": "code",
   "execution_count": 1,
   "id": "d50073c4",
   "metadata": {
    "_cell_guid": "b1076dfc-b9ad-4769-8c92-a6c4dae69d19",
    "_uuid": "8f2839f25d086af736a60e9eeb907d3b93b6e0e5",
    "execution": {
     "iopub.execute_input": "2023-10-11T04:05:48.180764Z",
     "iopub.status.busy": "2023-10-11T04:05:48.180046Z",
     "iopub.status.idle": "2023-10-11T04:05:48.197601Z",
     "shell.execute_reply": "2023-10-11T04:05:48.196588Z"
    },
    "papermill": {
     "duration": 0.025327,
     "end_time": "2023-10-11T04:05:48.200518",
     "exception": false,
     "start_time": "2023-10-11T04:05:48.175191",
     "status": "completed"
    },
    "tags": []
   },
   "outputs": [
    {
     "name": "stdout",
     "output_type": "stream",
     "text": [
      "Outcomes of coin flips: ['Heads', 'Tails', 'Heads', 'Heads', 'Tails', 'Heads', 'Heads', 'Heads', 'Tails', 'Heads', 'Heads', 'Tails', 'Heads', 'Tails', 'Tails', 'Tails', 'Heads', 'Heads', 'Heads', 'Tails', 'Heads', 'Heads', 'Heads', 'Heads', 'Heads', 'Tails', 'Tails', 'Tails', 'Tails', 'Heads', 'Tails', 'Heads', 'Heads', 'Heads', 'Heads', 'Tails', 'Tails', 'Tails', 'Tails', 'Tails', 'Heads', 'Heads', 'Tails', 'Tails', 'Heads', 'Tails', 'Heads', 'Heads', 'Heads', 'Heads', 'Tails', 'Heads', 'Heads', 'Heads', 'Tails', 'Tails', 'Heads', 'Tails', 'Heads', 'Tails', 'Heads', 'Heads', 'Heads', 'Heads', 'Tails', 'Heads', 'Tails', 'Tails', 'Heads', 'Tails', 'Tails', 'Tails', 'Heads', 'Tails', 'Tails', 'Tails', 'Heads', 'Tails', 'Heads', 'Tails', 'Tails', 'Tails', 'Heads', 'Heads', 'Heads', 'Heads', 'Heads', 'Heads', 'Heads', 'Tails', 'Tails', 'Tails', 'Tails', 'Tails', 'Tails', 'Tails', 'Heads', 'Tails', 'Tails', 'Heads', 'Tails', 'Tails', 'Heads', 'Heads', 'Tails', 'Tails', 'Tails', 'Tails', 'Heads', 'Tails', 'Tails', 'Tails', 'Tails', 'Tails', 'Tails', 'Tails', 'Tails', 'Tails', 'Tails', 'Tails', 'Heads', 'Tails', 'Tails', 'Tails', 'Heads', 'Heads', 'Heads', 'Tails', 'Heads', 'Heads', 'Tails', 'Heads', 'Heads', 'Heads', 'Tails', 'Heads', 'Heads', 'Tails', 'Tails', 'Tails', 'Tails', 'Heads', 'Heads', 'Heads', 'Tails', 'Heads', 'Heads', 'Tails', 'Tails', 'Heads', 'Tails', 'Heads', 'Tails', 'Tails', 'Heads', 'Heads', 'Tails', 'Heads', 'Tails', 'Tails', 'Tails', 'Tails', 'Heads', 'Heads', 'Heads', 'Tails', 'Tails', 'Tails', 'Heads', 'Heads', 'Tails', 'Heads', 'Heads', 'Tails', 'Tails', 'Heads', 'Tails', 'Tails', 'Heads', 'Tails', 'Heads', 'Tails', 'Heads', 'Tails', 'Heads', 'Heads', 'Heads', 'Tails', 'Tails', 'Heads', 'Tails', 'Tails', 'Tails', 'Heads', 'Heads', 'Tails', 'Heads', 'Tails', 'Heads', 'Heads', 'Tails', 'Tails', 'Heads', 'Tails', 'Heads', 'Tails', 'Tails', 'Heads', 'Tails', 'Tails', 'Tails', 'Heads', 'Heads', 'Heads', 'Heads', 'Heads', 'Tails', 'Tails', 'Heads', 'Tails', 'Tails', 'Tails', 'Heads', 'Heads', 'Heads', 'Tails', 'Tails', 'Heads', 'Heads', 'Heads', 'Heads', 'Tails', 'Tails', 'Heads', 'Heads', 'Tails', 'Heads', 'Tails', 'Tails', 'Heads', 'Heads', 'Heads', 'Tails', 'Tails', 'Tails', 'Heads', 'Tails', 'Heads', 'Tails', 'Tails', 'Heads', 'Tails', 'Heads', 'Heads', 'Tails', 'Tails', 'Heads', 'Heads', 'Tails', 'Tails', 'Heads', 'Tails', 'Tails', 'Tails', 'Heads', 'Heads', 'Tails', 'Heads', 'Tails', 'Heads', 'Tails', 'Tails', 'Heads', 'Heads', 'Tails', 'Heads', 'Heads', 'Heads', 'Heads', 'Heads', 'Heads', 'Heads', 'Tails', 'Tails', 'Heads', 'Tails', 'Heads', 'Heads', 'Tails', 'Tails', 'Tails', 'Heads', 'Tails', 'Tails', 'Tails', 'Heads', 'Tails', 'Heads', 'Tails', 'Heads', 'Tails', 'Heads', 'Tails', 'Tails', 'Tails', 'Heads', 'Tails', 'Tails', 'Heads', 'Heads', 'Tails', 'Heads', 'Tails', 'Tails', 'Tails', 'Heads', 'Tails', 'Tails', 'Tails', 'Tails', 'Tails', 'Tails', 'Tails', 'Heads', 'Tails', 'Heads', 'Heads', 'Tails', 'Heads', 'Heads', 'Tails', 'Heads', 'Heads', 'Heads', 'Heads', 'Heads', 'Tails', 'Tails', 'Heads', 'Heads', 'Heads', 'Tails', 'Heads', 'Heads', 'Heads', 'Heads', 'Tails', 'Heads', 'Tails', 'Heads', 'Heads', 'Heads', 'Tails', 'Heads', 'Heads', 'Tails', 'Tails', 'Heads', 'Tails', 'Heads', 'Heads', 'Tails', 'Tails', 'Tails', 'Tails', 'Tails', 'Tails', 'Heads', 'Heads', 'Tails', 'Tails', 'Tails', 'Heads', 'Tails', 'Tails', 'Tails', 'Heads', 'Heads', 'Tails', 'Tails', 'Tails', 'Heads', 'Heads', 'Tails', 'Tails', 'Heads', 'Heads', 'Tails', 'Heads', 'Tails', 'Tails', 'Heads', 'Tails', 'Heads', 'Heads', 'Tails', 'Tails', 'Tails', 'Tails', 'Tails', 'Tails', 'Heads', 'Tails', 'Heads', 'Heads', 'Tails', 'Tails', 'Heads', 'Heads', 'Heads', 'Tails', 'Heads', 'Heads', 'Heads', 'Heads', 'Tails', 'Tails', 'Heads', 'Tails', 'Heads', 'Heads', 'Tails', 'Heads', 'Heads', 'Tails', 'Tails', 'Tails', 'Tails', 'Tails', 'Tails', 'Tails', 'Tails', 'Tails', 'Tails', 'Heads', 'Tails', 'Heads', 'Tails', 'Heads', 'Tails', 'Tails', 'Heads', 'Heads', 'Heads', 'Tails', 'Tails', 'Tails', 'Heads', 'Heads', 'Tails', 'Tails', 'Heads', 'Heads', 'Tails', 'Heads', 'Heads', 'Tails', 'Heads', 'Tails', 'Heads', 'Tails', 'Heads', 'Heads', 'Heads', 'Tails', 'Tails', 'Heads', 'Heads', 'Tails', 'Tails', 'Heads', 'Tails', 'Heads', 'Tails', 'Heads', 'Heads', 'Heads', 'Heads', 'Tails', 'Tails', 'Tails', 'Heads', 'Heads', 'Heads', 'Tails', 'Tails', 'Tails', 'Tails', 'Tails', 'Tails', 'Tails', 'Heads', 'Heads', 'Heads', 'Tails', 'Heads', 'Heads', 'Tails', 'Tails', 'Heads', 'Tails', 'Tails', 'Tails', 'Tails', 'Tails', 'Tails', 'Tails', 'Tails', 'Tails', 'Tails', 'Heads', 'Heads', 'Heads', 'Heads', 'Heads', 'Tails', 'Heads', 'Tails', 'Tails', 'Tails', 'Heads', 'Heads', 'Tails', 'Tails', 'Heads', 'Heads', 'Tails', 'Tails', 'Tails', 'Heads', 'Heads', 'Tails', 'Heads', 'Heads', 'Heads', 'Heads', 'Tails', 'Tails', 'Tails', 'Tails', 'Tails', 'Tails', 'Tails', 'Heads', 'Tails', 'Tails', 'Heads', 'Heads', 'Tails', 'Heads', 'Heads', 'Tails', 'Tails', 'Tails', 'Heads', 'Tails', 'Tails', 'Heads', 'Tails', 'Heads', 'Tails', 'Tails', 'Tails', 'Tails', 'Tails', 'Tails', 'Tails', 'Tails', 'Heads', 'Heads', 'Heads', 'Heads', 'Tails', 'Tails', 'Heads', 'Tails', 'Heads', 'Heads', 'Tails', 'Tails', 'Tails', 'Tails', 'Heads', 'Tails', 'Tails', 'Tails', 'Tails', 'Heads', 'Tails', 'Heads', 'Heads', 'Tails', 'Tails', 'Heads', 'Tails', 'Heads', 'Heads', 'Tails', 'Heads', 'Heads', 'Heads', 'Heads', 'Heads', 'Tails', 'Tails', 'Tails', 'Heads', 'Tails', 'Tails', 'Heads', 'Heads', 'Tails', 'Heads', 'Heads', 'Tails', 'Heads', 'Heads', 'Tails', 'Heads', 'Tails', 'Tails', 'Heads', 'Heads', 'Tails', 'Tails', 'Heads', 'Tails', 'Heads', 'Heads', 'Tails', 'Heads', 'Heads', 'Tails', 'Tails', 'Heads', 'Heads', 'Heads', 'Tails', 'Tails', 'Heads', 'Tails', 'Heads', 'Heads', 'Heads', 'Tails', 'Heads', 'Tails', 'Heads', 'Heads', 'Heads', 'Heads', 'Heads', 'Tails', 'Heads', 'Tails', 'Tails', 'Heads', 'Tails', 'Tails', 'Heads', 'Tails', 'Tails', 'Heads', 'Tails', 'Heads', 'Tails', 'Tails', 'Heads', 'Tails', 'Tails', 'Heads', 'Tails', 'Heads', 'Tails', 'Heads', 'Heads', 'Tails', 'Heads', 'Tails', 'Heads', 'Heads', 'Tails', 'Heads', 'Tails', 'Tails', 'Tails', 'Tails', 'Tails', 'Heads', 'Tails', 'Tails', 'Heads', 'Tails', 'Tails', 'Heads', 'Heads', 'Heads', 'Tails', 'Heads', 'Tails', 'Tails', 'Tails', 'Heads', 'Heads', 'Tails', 'Heads', 'Tails', 'Heads', 'Tails', 'Heads', 'Tails', 'Heads', 'Tails', 'Tails', 'Heads', 'Heads', 'Tails', 'Tails', 'Heads', 'Heads', 'Tails', 'Tails', 'Tails', 'Heads', 'Heads', 'Heads', 'Heads', 'Heads', 'Tails', 'Heads', 'Heads', 'Tails', 'Tails', 'Tails', 'Tails', 'Tails', 'Heads', 'Tails', 'Tails', 'Heads', 'Heads', 'Tails', 'Tails', 'Heads', 'Tails', 'Heads', 'Tails', 'Heads', 'Heads', 'Heads', 'Tails', 'Tails', 'Heads', 'Tails', 'Heads', 'Heads', 'Tails', 'Tails', 'Tails', 'Heads', 'Heads', 'Tails', 'Tails', 'Tails', 'Tails', 'Heads', 'Heads', 'Tails', 'Heads', 'Tails', 'Heads', 'Heads', 'Tails', 'Tails', 'Heads', 'Tails', 'Tails', 'Heads', 'Heads', 'Tails', 'Heads', 'Heads', 'Tails', 'Tails', 'Tails', 'Tails', 'Tails', 'Heads', 'Heads', 'Tails', 'Tails', 'Tails', 'Tails', 'Tails', 'Heads', 'Tails', 'Heads', 'Tails', 'Heads', 'Tails', 'Tails', 'Tails', 'Heads', 'Tails', 'Tails', 'Heads', 'Tails', 'Tails', 'Tails', 'Heads', 'Tails', 'Heads', 'Tails', 'Tails', 'Heads', 'Tails', 'Tails', 'Tails', 'Tails', 'Heads', 'Heads', 'Tails', 'Tails', 'Tails', 'Heads', 'Tails', 'Tails', 'Heads', 'Tails', 'Heads', 'Heads', 'Heads', 'Tails', 'Tails', 'Tails', 'Tails', 'Heads', 'Heads', 'Heads', 'Heads', 'Heads', 'Tails', 'Tails', 'Heads', 'Heads', 'Tails', 'Tails', 'Heads', 'Tails', 'Tails', 'Tails', 'Tails', 'Heads', 'Tails', 'Tails', 'Heads', 'Heads', 'Heads', 'Heads', 'Tails', 'Heads', 'Heads', 'Tails', 'Heads', 'Tails', 'Tails', 'Heads', 'Heads', 'Heads', 'Tails', 'Tails', 'Tails', 'Tails', 'Tails', 'Heads', 'Heads', 'Heads', 'Heads', 'Heads', 'Heads', 'Tails', 'Tails', 'Tails', 'Heads', 'Heads', 'Tails', 'Tails', 'Tails', 'Heads', 'Heads', 'Heads', 'Heads', 'Heads', 'Heads', 'Heads', 'Heads', 'Tails', 'Heads', 'Heads', 'Heads', 'Heads', 'Tails', 'Heads', 'Heads', 'Heads', 'Heads', 'Tails', 'Tails', 'Tails', 'Tails', 'Heads', 'Tails', 'Heads', 'Heads', 'Tails', 'Tails', 'Tails', 'Tails', 'Heads', 'Heads', 'Tails', 'Tails', 'Tails', 'Tails', 'Heads', 'Heads', 'Heads', 'Heads', 'Tails', 'Heads', 'Heads', 'Heads', 'Heads', 'Tails', 'Tails', 'Heads', 'Tails', 'Heads', 'Tails', 'Heads', 'Tails', 'Heads', 'Tails', 'Tails', 'Tails', 'Heads', 'Heads', 'Heads', 'Tails', 'Heads', 'Tails', 'Heads', 'Tails', 'Tails', 'Tails', 'Tails', 'Tails', 'Heads', 'Tails', 'Heads', 'Heads', 'Tails', 'Tails', 'Tails', 'Heads', 'Tails', 'Tails', 'Heads', 'Tails', 'Tails', 'Heads', 'Heads', 'Heads', 'Heads', 'Heads', 'Heads', 'Heads', 'Heads', 'Heads', 'Heads', 'Tails', 'Tails', 'Tails', 'Heads', 'Heads', 'Tails', 'Heads', 'Tails', 'Heads', 'Tails', 'Heads', 'Heads', 'Tails', 'Tails', 'Heads', 'Tails', 'Tails', 'Tails', 'Heads', 'Tails']\n",
      "Heads: 476, Tails: 524\n",
      "Experimental Probability of Heads: 0.476\n",
      "Experimental Probability of Tails: 0.524\n",
      "Experimental Probability of Sequence HTH: 0.11322645290581163\n",
      "Theoretical Probability of Heads: 0.5\n",
      "Theoretical Probability of Tails: 0.5\n",
      "Theoretical Probability of Sequence HTH: 0.125\n"
     ]
    }
   ],
   "source": [
    "import random\n",
    "\n",
    "def flip_coin(N):\n",
    "    outcomes = []\n",
    "    heads_count = 0\n",
    "    tails_count = 0\n",
    "\n",
    "    for _ in range(N):\n",
    "        result = random.choice(['Heads', 'Tails'])\n",
    "        outcomes.append(result)\n",
    "\n",
    "        if result == 'Heads':\n",
    "            heads_count += 1\n",
    "        else:\n",
    "            tails_count += 1\n",
    "\n",
    "    return outcomes, heads_count, tails_count\n",
    "\n",
    "def calculate_probabilities(outcomes):\n",
    "    total_flips = len(outcomes)\n",
    "    p_heads = outcomes.count('Heads') / total_flips\n",
    "    p_tails = outcomes.count('Tails') / total_flips\n",
    "\n",
    "    sequence = ['Heads', 'Tails', 'Heads']\n",
    "    p_sequence = 0\n",
    "    for i in range(len(outcomes) - len(sequence) + 1):\n",
    "        if outcomes[i:i + len(sequence)] == sequence:\n",
    "            p_sequence += 1\n",
    "\n",
    "    p_sequence /= (total_flips - len(sequence) + 1)\n",
    "\n",
    "    return p_heads, p_tails, p_sequence\n",
    "\n",
    "N = 1000\n",
    "\n",
    "outcomes, heads_count, tails_count = flip_coin(N)\n",
    "p_heads, p_tails, p_sequence = calculate_probabilities(outcomes)\n",
    "\n",
    "print(\"Outcomes of coin flips:\", outcomes)\n",
    "print(f\"Heads: {heads_count}, Tails: {tails_count}\")\n",
    "\n",
    "if 'Heads' in outcomes and 'Tails' in outcomes and 'Heads' in outcomes[outcomes.index('Tails')+1:]:\n",
    "    p_heads, p_tails, p_sequence = calculate_probabilities(outcomes)\n",
    "    print(f\"Experimental Probability of Heads: {p_heads}\")\n",
    "    print(f\"Experimental Probability of Tails: {p_tails}\")\n",
    "    print(f\"Experimental Probability of Sequence HTH: {p_sequence}\")\n",
    "\n",
    "p_theoretical_heads = 0.5\n",
    "p_theoretical_tails = 0.5\n",
    "p_theoretical_sequence = 0.5 * 0.5 * 0.5 \n",
    "\n",
    "print(f\"Theoretical Probability of Heads: {p_theoretical_heads}\")\n",
    "print(f\"Theoretical Probability of Tails: {p_theoretical_tails}\")\n",
    "print(f\"Theoretical Probability of Sequence HTH: {p_theoretical_sequence}\")\n"
   ]
  },
  {
   "cell_type": "code",
   "execution_count": 2,
   "id": "d6681def",
   "metadata": {
    "execution": {
     "iopub.execute_input": "2023-10-11T04:05:48.208348Z",
     "iopub.status.busy": "2023-10-11T04:05:48.207738Z",
     "iopub.status.idle": "2023-10-11T04:05:51.417096Z",
     "shell.execute_reply": "2023-10-11T04:05:51.416029Z"
    },
    "papermill": {
     "duration": 3.214948,
     "end_time": "2023-10-11T04:05:51.419466",
     "exception": false,
     "start_time": "2023-10-11T04:05:48.204518",
     "status": "completed"
    },
    "tags": []
   },
   "outputs": [
    {
     "data": {
      "image/png": "[encoded data removed]",
      "text/plain": [
       "<Figure size 1000x600 with 1 Axes>"
      ]
     },
     "metadata": {},
     "output_type": "display_data"
    }
   ],
   "source": [
    "import random\n",
    "import matplotlib.pyplot as plt\n",
    "import seaborn as sns\n",
    "\n",
    "def flip_coin(N):\n",
    "    outcomes = []\n",
    "    heads_count = 0\n",
    "    tails_count = 0\n",
    "\n",
    "    for _ in range(N):\n",
    "        result = random.choice(['Heads', 'Tails'])\n",
    "        outcomes.append(result)\n",
    "\n",
    "        if result == 'Heads':\n",
    "            heads_count += 1\n",
    "        else:\n",
    "            tails_count += 1\n",
    "\n",
    "    return outcomes, heads_count, tails_count\n",
    "\n",
    "def calculate_probabilities(outcomes):\n",
    "    total_flips = len(outcomes)\n",
    "    p_heads = outcomes.count('Heads') / total_flips\n",
    "    p_tails = outcomes.count('Tails') / total_flips\n",
    "\n",
    "    sequence = ['Heads', 'Tails', 'Heads']\n",
    "    p_sequence = 0\n",
    "    for i in range(len(outcomes) - len(sequence) + 1):\n",
    "        if outcomes[i:i + len(sequence)] == sequence:\n",
    "            p_sequence += 1\n",
    "\n",
    "    p_sequence /= (total_flips - len(sequence) + 1)\n",
    "\n",
    "    return p_heads, p_tails, p_sequence\n",
    "\n",
    "N = 1000000\n",
    "\n",
    "outcomes, heads_count, tails_count = flip_coin(N)\n",
    "p_heads, p_tails, p_sequence = calculate_probabilities(outcomes)\n",
    "\n",
    "p_theoretical_heads = 0.5\n",
    "p_theoretical_tails = 0.5\n",
    "p_theoretical_sequence = 0.5 * 0.5 * 0.5  \n",
    "\n",
    "categories = ['Heads', 'Tails', 'HTH']\n",
    "experimental_probabilities = [p_heads, p_tails, p_sequence]\n",
    "theoretical_probabilities = [p_theoretical_heads, p_theoretical_tails, p_theoretical_sequence]\n",
    "sns.set(style=\"dark\")\n",
    "\n",
    "plt.figure(figsize=(10, 6))\n",
    "\n",
    "bar_width = 0.35\n",
    "index = range(len(categories))\n",
    "plt.bar(index, experimental_probabilities, bar_width, label='Experimental', color='skyblue')\n",
    "plt.bar([i + bar_width for i in index], theoretical_probabilities, bar_width, label='Theoretical', color='orange')\n",
    "\n",
    "plt.xlabel('Events')\n",
    "plt.ylabel('Probability')\n",
    "plt.xticks([i + bar_width / 2 for i in index], categories)\n",
    "plt.legend(loc='upper right')\n",
    "plt.title('Experimental vs. Theoretical Probabilities')\n",
    "\n",
    "for i in range(len(categories)):\n",
    "    plt.text(index[i], experimental_probabilities[i] + 0.02, f'{experimental_probabilities[i]:.4f}', ha='center')\n",
    "    plt.text(index[i] + bar_width, theoretical_probabilities[i] + 0.02, f'{theoretical_probabilities[i]:.4f}', ha='center')\n",
    "\n",
    "plt.show()\n"
   ]
  },
  {
   "cell_type": "code",
   "execution_count": null,
   "id": "af9ced9e",
   "metadata": {
    "papermill": {
     "duration": 0.002259,
     "end_time": "2023-10-11T04:05:51.424322",
     "exception": false,
     "start_time": "2023-10-11T04:05:51.422063",
     "status": "completed"
    },
    "tags": []
   },
   "outputs": [],
   "source": []
  },
  {
   "cell_type": "code",
   "execution_count": null,
   "id": "35d102e4",
   "metadata": {
    "papermill": {
     "duration": 0.002121,
     "end_time": "2023-10-11T04:05:51.428796",
     "exception": false,
     "start_time": "2023-10-11T04:05:51.426675",
     "status": "completed"
    },
    "tags": []
   },
   "outputs": [],
   "source": []
  },
  {
   "cell_type": "code",
   "execution_count": null,
   "id": "49e5e420",
   "metadata": {
    "papermill": {
     "duration": 0.002096,
     "end_time": "2023-10-11T04:05:51.433182",
     "exception": false,
     "start_time": "2023-10-11T04:05:51.431086",
     "status": "completed"
    },
    "tags": []
   },
   "outputs": [],
   "source": []
  }
 ],
 "metadata": {
  "kernelspec": {
   "display_name": "Python 3",
   "language": "python",
   "name": "python3"
  },
  "language_info": {
   "codemirror_mode": {
    "name": "ipython",
    "version": 3
   },
   "file_extension": ".py",
   "mimetype": "text/x-python",
   "name": "python",
   "nbconvert_exporter": "python",
   "pygments_lexer": "ipython3",
   "version": "3.10.12"
  },
  "papermill": {
   "default_parameters": {},
   "duration": 6.906146,
   "end_time": "2023-10-11T04:05:51.955830",
   "environment_variables": {},
   "exception": null,
   "input_path": "__notebook__.ipynb",
   "output_path": "__notebook__.ipynb",
   "parameters": {},
   "start_time": "2023-10-11T04:05:45.049684",
   "version": "2.4.0"
  }
 },
 "nbformat": 4,
 "nbformat_minor": 5
}
